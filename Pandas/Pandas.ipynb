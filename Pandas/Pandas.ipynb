{
  "nbformat": 4,
  "nbformat_minor": 0,
  "metadata": {
    "colab": {
      "name": "Pandas.ipynb",
      "provenance": [],
      "collapsed_sections": [],
      "authorship_tag": "ABX9TyMqxNnpoCSYZldTUsXlBnm1",
      "include_colab_link": true
    },
    "kernelspec": {
      "name": "python3",
      "display_name": "Python 3"
    },
    "language_info": {
      "name": "python"
    }
  },
  "cells": [
    {
      "cell_type": "markdown",
      "metadata": {
        "id": "view-in-github",
        "colab_type": "text"
      },
      "source": [
        "<a href=\"https://colab.research.google.com/github/kunal077/Data-Science/blob/main/Pandas/Pandas.ipynb\" target=\"_parent\"><img src=\"https://colab.research.google.com/assets/colab-badge.svg\" alt=\"Open In Colab\"/></a>"
      ]
    },
    {
      "cell_type": "code",
      "metadata": {
        "id": "oJKqm67-ggbz"
      },
      "source": [
        "from pandas import Series, DataFrame\n",
        "import pandas as pd\n",
        "import numpy as np"
      ],
      "execution_count": null,
      "outputs": []
    },
    {
      "cell_type": "code",
      "metadata": {
        "colab": {
          "base_uri": "https://localhost:8080/"
        },
        "id": "ZxcEPuGtmQOO",
        "outputId": "06bc80e4-7823-458d-dd6c-8f88b5951d1f"
      },
      "source": [
        "#The two workhorse Data Structure: Series and DataFrame\n",
        "#Series-1D array like object containing an array of data (NumPy Data Type)\n",
        "#and associated array of data labels called index\n",
        "\n",
        "obj = Series([4, 7, -5, 3])\n",
        "print(obj)\n",
        "print(obj.values, obj.index)\n",
        "\n",
        "#Explicit assigning of index\n",
        "obj2 = Series([4, 7, -5, 3], index=['d', 'b', 'a', 'c'])\n",
        "print(obj2, \"\\n\", obj2.index)"
      ],
      "execution_count": null,
      "outputs": [
        {
          "output_type": "stream",
          "text": [
            "0    4\n",
            "1    7\n",
            "2   -5\n",
            "3    3\n",
            "dtype: int64\n",
            "[ 4  7 -5  3] RangeIndex(start=0, stop=4, step=1)\n",
            "d    4\n",
            "b    7\n",
            "a   -5\n",
            "c    3\n",
            "dtype: int64 \n",
            " Index(['d', 'b', 'a', 'c'], dtype='object')\n"
          ],
          "name": "stdout"
        }
      ]
    },
    {
      "cell_type": "code",
      "metadata": {
        "colab": {
          "base_uri": "https://localhost:8080/"
        },
        "id": "5JnAGB9dnXXq",
        "outputId": "7ae254b3-e455-45b6-aae5-0548ca4e2fd9"
      },
      "source": [
        "obj2 = Series([6, 7, -5, 3], index=['d', 'b', 'a', 'c'])\n",
        "print(obj2[obj2>0], obj2*2, 'b' in obj2, np.exp(obj2))\n",
        "\n",
        "sdata = {'Ohio': 35000, 'Texas': 71000, 'Oregon': 16000, 'Utah': 5000}\n",
        "obj3 = Series(sdata)\n",
        "print(obj3)\n",
        "\n",
        "#If indexing is explicitly passed it will be sorted according to KEY from dict\n",
        "states = ['California', 'Ohio', 'Oregon', 'Texas']\n",
        "obj4 = Series(sdata, index = states)\n",
        "print(obj4)\n",
        "\n",
        "#For detection of missing data\n",
        "print(pd.isnull(obj4), pd.notnull(obj4), obj4.isnull())\n",
        "\n",
        "#Automatic alignment of differently indexed data in arithmetic operations\n",
        "print(obj3 + obj4)\n",
        "print(obj3-obj4)\n",
        "print()\n",
        "\n",
        "obj4.name = \"population\" #Values\n",
        "obj4.index.name = \"state\" #Keys\n",
        "print(obj4)\n",
        "#indexes can be reassigned"
      ],
      "execution_count": null,
      "outputs": [
        {
          "output_type": "stream",
          "text": [
            "d    6\n",
            "b    7\n",
            "c    3\n",
            "dtype: int64 d    12\n",
            "b    14\n",
            "a   -10\n",
            "c     6\n",
            "dtype: int64 True d     403.428793\n",
            "b    1096.633158\n",
            "a       0.006738\n",
            "c      20.085537\n",
            "dtype: float64\n",
            "Ohio      35000\n",
            "Texas     71000\n",
            "Oregon    16000\n",
            "Utah       5000\n",
            "dtype: int64\n",
            "California        NaN\n",
            "Ohio          35000.0\n",
            "Oregon        16000.0\n",
            "Texas         71000.0\n",
            "dtype: float64\n",
            "California     True\n",
            "Ohio          False\n",
            "Oregon        False\n",
            "Texas         False\n",
            "dtype: bool California    False\n",
            "Ohio           True\n",
            "Oregon         True\n",
            "Texas          True\n",
            "dtype: bool California     True\n",
            "Ohio          False\n",
            "Oregon        False\n",
            "Texas         False\n",
            "dtype: bool\n",
            "California         NaN\n",
            "Ohio           70000.0\n",
            "Oregon         32000.0\n",
            "Texas         142000.0\n",
            "Utah               NaN\n",
            "dtype: float64\n",
            "California    NaN\n",
            "Ohio          0.0\n",
            "Oregon        0.0\n",
            "Texas         0.0\n",
            "Utah          NaN\n",
            "dtype: float64\n",
            "\n",
            "state\n",
            "California        NaN\n",
            "Ohio          35000.0\n",
            "Oregon        16000.0\n",
            "Texas         71000.0\n",
            "Name: population, dtype: float64\n"
          ],
          "name": "stdout"
        }
      ]
    },
    {
      "cell_type": "code",
      "metadata": {
        "colab": {
          "base_uri": "https://localhost:8080/"
        },
        "id": "Rm6wjpzNqggV",
        "outputId": "56a864e1-82d9-4317-b1ed-0d9b965ba20f"
      },
      "source": [
        "#DataFrame\n",
        "#Tabular, Spreadsheet type-like data structure\n",
        "# Dict of Series, Both R and C are Indexed\n",
        "data = {'state': ['Ohio', 'Ohio', 'Ohio', 'Nevada', 'Nevada'],\n",
        "'year': [2000, 2001, 2002, 2001, 2002],\n",
        "'pop': [1.5, 1.7, 3.6, 2.4, 2.9]}\n",
        "\n",
        "frame = DataFrame(data)\n",
        "print(frame)\n",
        "print()\n",
        "frame = DataFrame(data, columns=['year', 'state', 'pop'])\n",
        "print(frame)\n",
        "\n",
        "frame2 = DataFrame(data, columns = ['year', 'state', 'pop', 'debt'],\n",
        "                   index=['one', 'two', 'three', 'four', 'five'])\n",
        "print(\"\\n\", frame2, \"\\n\", frame2.shape)"
      ],
      "execution_count": null,
      "outputs": [
        {
          "output_type": "stream",
          "text": [
            "    state  year  pop\n",
            "0    Ohio  2000  1.5\n",
            "1    Ohio  2001  1.7\n",
            "2    Ohio  2002  3.6\n",
            "3  Nevada  2001  2.4\n",
            "4  Nevada  2002  2.9\n",
            "\n",
            "   year   state  pop\n",
            "0  2000    Ohio  1.5\n",
            "1  2001    Ohio  1.7\n",
            "2  2002    Ohio  3.6\n",
            "3  2001  Nevada  2.4\n",
            "4  2002  Nevada  2.9\n",
            "\n",
            "        year   state  pop debt\n",
            "one    2000    Ohio  1.5  NaN\n",
            "two    2001    Ohio  1.7  NaN\n",
            "three  2002    Ohio  3.6  NaN\n",
            "four   2001  Nevada  2.4  NaN\n",
            "five   2002  Nevada  2.9  NaN \n",
            " (5, 4)\n"
          ],
          "name": "stdout"
        }
      ]
    },
    {
      "cell_type": "code",
      "metadata": {
        "colab": {
          "base_uri": "https://localhost:8080/"
        },
        "id": "XzQY_BfT53BQ",
        "outputId": "65e78ba1-3a19-4e6f-9401-c51e38d9f94d"
      },
      "source": [
        "frame2['state'], frame2['year']\n",
        "frame2.loc[\"five\"]\n",
        "#We can use loc and iloc instead of ix (as indexes)\n",
        "\n",
        "#frame2['debt'] = 16.5\n",
        "frame2['debt'] = np.arange(5.)\n",
        "print(frame2)\n",
        "\n",
        "#We can assign list/ ndarrays to df.columns\n",
        "val = Series([-1.2, -1.5, -1.7], index=['two','four','five'])\n",
        "print(val)\n",
        "\n",
        "frame2['debt'] = val\n",
        "print(frame2)\n",
        "print()\n",
        "frame2['eastern'] = (frame2.state == 'Ohio')\n",
        "print(frame2); del frame2['eastern']; print(); print(frame2)\n",
        "frame2.columns\n",
        "\n",
        "#We can also conver dict of dict to DataFrame directly since ther \n",
        "#are indexes already on both sides\n",
        "\n",
        "pop = {'Nevada': {2001: 2.4, 2002: 2.9},'Ohio': {2000: 1.5, 2001: 1.7, 2002: 3.6}}\n",
        "#Since the inner dicts contain similar indexes, therefore\n",
        "frame3 = DataFrame(pop, index =[2000,2001,2002]) #When we pass indexes then it gets sorted\n",
        "print(frame3, \"\\n\", frame3.shape)\n",
        "print(frame3.T)\n",
        "#There is Index and Column nor Row and Column\n",
        "\n",
        "print(frame3.values) #Returns ndarray"
      ],
      "execution_count": null,
      "outputs": [
        {
          "output_type": "stream",
          "text": [
            "       year   state  pop  debt\n",
            "one    2000    Ohio  1.5   0.0\n",
            "two    2001    Ohio  1.7   1.0\n",
            "three  2002    Ohio  3.6   2.0\n",
            "four   2001  Nevada  2.4   3.0\n",
            "five   2002  Nevada  2.9   4.0\n",
            "two    -1.2\n",
            "four   -1.5\n",
            "five   -1.7\n",
            "dtype: float64\n",
            "       year   state  pop  debt\n",
            "one    2000    Ohio  1.5   NaN\n",
            "two    2001    Ohio  1.7  -1.2\n",
            "three  2002    Ohio  3.6   NaN\n",
            "four   2001  Nevada  2.4  -1.5\n",
            "five   2002  Nevada  2.9  -1.7\n",
            "\n",
            "       year   state  pop  debt  eastern\n",
            "one    2000    Ohio  1.5   NaN     True\n",
            "two    2001    Ohio  1.7  -1.2     True\n",
            "three  2002    Ohio  3.6   NaN     True\n",
            "four   2001  Nevada  2.4  -1.5    False\n",
            "five   2002  Nevada  2.9  -1.7    False\n",
            "\n",
            "       year   state  pop  debt\n",
            "one    2000    Ohio  1.5   NaN\n",
            "two    2001    Ohio  1.7  -1.2\n",
            "three  2002    Ohio  3.6   NaN\n",
            "four   2001  Nevada  2.4  -1.5\n",
            "five   2002  Nevada  2.9  -1.7\n",
            "      Nevada  Ohio\n",
            "2000     NaN   1.5\n",
            "2001     2.4   1.7\n",
            "2002     2.9   3.6 \n",
            " (3, 2)\n",
            "        2000  2001  2002\n",
            "Nevada   NaN   2.4   2.9\n",
            "Ohio     1.5   1.7   3.6\n",
            "[[nan 1.5]\n",
            " [2.4 1.7]\n",
            " [2.9 3.6]]\n"
          ],
          "name": "stdout"
        }
      ]
    },
    {
      "cell_type": "code",
      "metadata": {
        "colab": {
          "base_uri": "https://localhost:8080/"
        },
        "id": "jtYhtO5lQ2fq",
        "outputId": "7f9af5db-e1f4-4835-8a7f-027ca57e18e8"
      },
      "source": [
        "index = pd.Index(np.arange(3))\n",
        "print(index)\n",
        "\n",
        "obj2 = Series([1.5, -2.5, 0], index = index)\n",
        "print(obj2)\n",
        "print(obj2.index is index)"
      ],
      "execution_count": null,
      "outputs": [
        {
          "output_type": "stream",
          "text": [
            "Int64Index([0, 1, 2], dtype='int64')\n",
            "0    1.5\n",
            "1   -2.5\n",
            "2    0.0\n",
            "dtype: float64\n",
            "True\n"
          ],
          "name": "stdout"
        }
      ]
    }
  ]
}