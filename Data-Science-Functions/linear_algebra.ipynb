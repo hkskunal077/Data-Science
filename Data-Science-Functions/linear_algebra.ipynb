{
  "nbformat": 4,
  "nbformat_minor": 0,
  "metadata": {
    "kernelspec": {
      "name": "python3",
      "display_name": "Python 3",
      "language": "python"
    },
    "language_info": {
      "name": "python",
      "version": "3.7.9",
      "mimetype": "text/x-python",
      "codemirror_mode": {
        "name": "ipython",
        "version": 3
      },
      "pygments_lexer": "ipython3",
      "nbconvert_exporter": "python",
      "file_extension": ".py"
    },
    "colab": {
      "name": "linear-algebra.ipynb",
      "provenance": [],
      "include_colab_link": true
    }
  },
  "cells": [
    {
      "cell_type": "markdown",
      "metadata": {
        "id": "view-in-github",
        "colab_type": "text"
      },
      "source": [
        "<a href=\"https://colab.research.google.com/github/kunal077/Data-Science/blob/main/Data-Science-Functions/linear_algebra.ipynb\" target=\"_parent\"><img src=\"https://colab.research.google.com/assets/colab-badge.svg\" alt=\"Open In Colab\"/></a>"
      ]
    },
    {
      "cell_type": "markdown",
      "metadata": {
        "id": "kCc8yPYoPQOb"
      },
      "source": [
        "**Linear Algebra**"
      ]
    },
    {
      "cell_type": "code",
      "metadata": {
        "trusted": true,
        "scrolled": false,
        "id": "quKlhtM-PQOg",
        "outputId": "f17b8852-d284-45b0-fcb7-6d9d7572d5d3"
      },
      "source": [
        "import functools\n",
        "import random\n",
        "\n",
        "height_weight_age = [70, 170, 40]\n",
        "print(height_weight_age)\n",
        "grades1 = [95, 80, 75, 62]\n",
        "grades2 = [43, 79, 12, 99]\n",
        "grades = [grades1, grades2]\n",
        "print(grades)\n",
        "\n",
        "#We need to build Arithmetic Tools by ourselves\n",
        "\n",
        "def vector_add(v, w):\n",
        "    \"\"\"adds corresponding elements\"\"\"\n",
        "    return [v_i + w_i for v_i, w_i in zip(v, w)]\n",
        "\n",
        "def vector_subtract(v, w):\n",
        "    \"\"\"subtracts corresponding elements\"\"\"\n",
        "    return [v_i - w_i for v_i, w_i in zip(v, w)]\n",
        "\n",
        "def vector_sum(vectors):\n",
        "    \"\"\"sums all corresponding elements\"\"\"\n",
        "    result = vectors[0]\n",
        "    for vector in vectors[1:]:\n",
        "        result = vector_add(result, vector)\n",
        "    return result\n",
        "\n",
        "def vector_sum_reduce(vectors):\n",
        "    \"\"\"functools.reduce applies the recursive functionality on a list\"\"\"\n",
        "    return functools.reduce(vector_add, vectors)\n",
        "print(vector_sum_reduce(grades))\n",
        "print(vector_sum(grades))\n",
        "\n",
        "\n",
        "def scalar_multiply(c, v):\n",
        "    \"\"\"c is a number, v is a vector\"\"\"\n",
        "    return [c*v_i for v_i in v]\n",
        "\n",
        "def vector_mean(vectors):\n",
        "    \"\"\"compute the vector whose ith element is the mean of the ith elements of\n",
        "    the input vectors, since they are all of length n\"\"\"\n",
        "    n = len(vectors)\n",
        "    return scalar_multiply(1/n, vector_sum(vectors))\n",
        "print(vector_mean(grades))\n",
        "\n",
        "def dot(v, w):\n",
        "    \"\"\"sum of their componentwise products\"\"\"\n",
        "    return sum(v_i*w_i for v_i, w_i in zip(v, w))\n",
        "\n",
        "def dot_all(vectors):\n",
        "    \"\"\"dot operation on multiple vectors\"\"\"\n",
        "    return functools.reduce(dot, vectors)\n",
        "print(dot_all(grades))\n",
        "\n",
        "def sum_of_squares(v):\n",
        "    \"\"\"v_1*v_1 + ... + v_n*v_n\"\"\"\n",
        "    return dot(v, v)\n",
        "\n",
        "import math\n",
        "\n",
        "def magnitude(v):\n",
        "    return math.sqrt(sum_of_squares(v))\n",
        "\n",
        "def squared_distance(v, w):\n",
        "    return sum_of_squares(vector_subtract(v, w))\n",
        "\n",
        "def distance(v, w):\n",
        "    return math.sqrt(squared_distance(v, w))\n",
        "\n",
        "\n",
        "#using list as vectors if terrible for performance so we will use NumPy library instead\n",
        "\n",
        "A = [[1, 2, 3],\n",
        "    [4, 5, 6]]\n",
        "\n",
        "B = [[1, 2],\n",
        "    [3, 4],\n",
        "    [5, 6]]\n",
        "\n",
        "def shape(A):\n",
        "    num_rows = len(A)\n",
        "    num_cols = len(A[0]) if A else 0\n",
        "    return num_rows, num_cols\n",
        "\n",
        "def get_row(A, i):\n",
        "    \"\"\"get Rows\"\"\"\n",
        "    return A[i]\n",
        "\n",
        "def get_column(A, j):\n",
        "    \"\"\"get Columns\"\"\"\n",
        "    return [A_i[j] for A_i in A]\n",
        "\n",
        "\n",
        "#If we are given a function for generating matrix and the shape we can use LC\n",
        "\n",
        "def make_matrix(num_rows, num_cols, entry_fn):\n",
        "    return [[entry_fn(i, j) for j in range(num_cols)]\n",
        "           for i in range(num_rows)]\n",
        "\n",
        "#Creating a custom function\n",
        "\n",
        "def is_diagonal(i, j):\n",
        "    \"\"\"1s on diagonal and 0s everywhere else\"\"\"\n",
        "    return 1 if i==j else 0\n",
        "\n",
        "#function is not passed as the call but as the NAME\n",
        "#becuase it is passed withour parameter\n",
        "print(make_matrix(5,5,is_diagonal))\n",
        "identity_matrix = make_matrix(5,5,is_diagonal)\n",
        "print(identity_matrix)\n",
        "\n"
      ],
      "execution_count": null,
      "outputs": [
        {
          "output_type": "stream",
          "text": [
            "[70, 170, 40]\n",
            "[[95, 80, 75, 62], [43, 79, 12, 99]]\n",
            "[138, 159, 87, 161]\n",
            "[138, 159, 87, 161]\n",
            "[69.0, 79.5, 43.5, 80.5]\n",
            "17443\n",
            "[[1, 0, 0, 0, 0], [0, 1, 0, 0, 0], [0, 0, 1, 0, 0], [0, 0, 0, 1, 0], [0, 0, 0, 0, 1]]\n",
            "[[1, 0, 0, 0, 0], [0, 1, 0, 0, 0], [0, 0, 1, 0, 0], [0, 0, 0, 1, 0], [0, 0, 0, 0, 1]]\n"
          ],
          "name": "stdout"
        }
      ]
    }
  ]
}