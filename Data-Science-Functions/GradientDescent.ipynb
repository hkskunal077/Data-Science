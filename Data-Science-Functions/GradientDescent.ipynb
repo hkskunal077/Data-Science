{
  "nbformat": 4,
  "nbformat_minor": 0,
  "metadata": {
    "colab": {
      "name": "GradientDescent.ipynb",
      "provenance": [],
      "authorship_tag": "ABX9TyNACLnhiTSZmvgI/WX5cE2J",
      "include_colab_link": true
    },
    "kernelspec": {
      "name": "python3",
      "display_name": "Python 3"
    },
    "language_info": {
      "name": "python"
    }
  },
  "cells": [
    {
      "cell_type": "markdown",
      "metadata": {
        "id": "view-in-github",
        "colab_type": "text"
      },
      "source": [
        "<a href=\"https://colab.research.google.com/github/kunal077/Data-Science/blob/main/Data-Science-Functions/GradientDescent.ipynb\" target=\"_parent\"><img src=\"https://colab.research.google.com/assets/colab-badge.svg\" alt=\"Open In Colab\"/></a>"
      ]
    },
    {
      "cell_type": "code",
      "metadata": {
        "id": "q5KMgzRA7RkN"
      },
      "source": [
        "def sum_of_squares(v):\n",
        "  return sum(v_i**2 for v_i in v)\n",
        "\n",
        "def difference_quotient(f, x, h):\n",
        "  return (f(x+h)-f(x))/h\n",
        "\n",
        "def square(x):\n",
        "  return x**x\n",
        "\n",
        "def derivative(x):\n",
        "  return 2*x"
      ],
      "execution_count": 6,
      "outputs": []
    },
    {
      "cell_type": "code",
      "metadata": {
        "id": "a7-kmb_C9Ks9"
      },
      "source": [
        "from functools import partial\n",
        "derivative_estimate = partial(difference_quotient, x=square, h=0.00001)\n",
        "\n",
        "import matplotlib.pyplot as plt\n",
        "x=list(range(-10, 10))\n",
        "plt.plot(x, list(map(derivative, x)), 'rx', label='Actual')\n",
        "plt.plot(x, list(map(derivative_estimate, x)),'b+', label='Estimated')\n",
        "plt.legend()\n",
        "plt.show()"
      ],
      "execution_count": null,
      "outputs": []
    },
    {
      "cell_type": "code",
      "metadata": {
        "id": "WNj7TyhdAH7y"
      },
      "source": [
        "def partial_difference_quotient(f, v, i, h):\n",
        "  "
      ],
      "execution_count": null,
      "outputs": []
    }
  ]
}