{
  "nbformat": 4,
  "nbformat_minor": 0,
  "metadata": {
    "colab": {
      "name": "Statistics.ipynb",
      "provenance": []
    },
    "kernelspec": {
      "name": "python3",
      "display_name": "Python 3"
    },
    "language_info": {
      "name": "python"
    }
  },
  "cells": [
    {
      "cell_type": "code",
      "metadata": {
        "id": "btaaz-Igib5p"
      },
      "source": [
        "import numpy as np\n",
        "import pandas as pd\n",
        "import matplotlib.pyplot as plt\n",
        "import random\n",
        "#random.seed(0)\n",
        "import collections\n",
        "import math"
      ],
      "execution_count": null,
      "outputs": []
    },
    {
      "cell_type": "code",
      "metadata": {
        "colab": {
          "base_uri": "https://localhost:8080/",
          "height": 332
        },
        "id": "UxiSksExipz1",
        "outputId": "42be6766-b599-4d9d-aab0-401c96481045"
      },
      "source": [
        "#Generating random values in some range\n",
        "num_friends = [100*random.random()//1 for i in range(100)] \n",
        "#For large datasets we use Histogram for finding out thye features \n",
        "friend_counts = collections.Counter(num_friends)\n",
        "print(friend_counts)\n",
        "xs = range(101)\n",
        "ys = [friend_counts[x] for x in xs]\n",
        "plt.bar(xs, ys)\n",
        "plt.axis([0, 101, 0, 25])\n",
        "plt.title(\"Histogram of Friends Count\")\n",
        "plt.xlabel(\"# of friends\")\n",
        "plt.ylabel(\"# of people\")\n",
        "plt.show()"
      ],
      "execution_count": null,
      "outputs": [
        {
          "output_type": "stream",
          "text": [
            "Counter({52.0: 4, 4.0: 4, 87.0: 3, 71.0: 3, 27.0: 3, 90.0: 3, 47.0: 3, 15.0: 2, 31.0: 2, 8.0: 2, 98.0: 2, 40.0: 2, 0.0: 2, 9.0: 2, 64.0: 2, 97.0: 2, 39.0: 2, 65.0: 2, 34.0: 2, 33.0: 2, 44.0: 1, 25.0: 1, 48.0: 1, 56.0: 1, 75.0: 1, 88.0: 1, 49.0: 1, 46.0: 1, 80.0: 1, 81.0: 1, 18.0: 1, 99.0: 1, 63.0: 1, 72.0: 1, 67.0: 1, 21.0: 1, 82.0: 1, 11.0: 1, 10.0: 1, 85.0: 1, 45.0: 1, 79.0: 1, 86.0: 1, 13.0: 1, 1.0: 1, 68.0: 1, 55.0: 1, 94.0: 1, 93.0: 1, 74.0: 1, 70.0: 1, 37.0: 1, 53.0: 1, 20.0: 1, 58.0: 1, 78.0: 1, 62.0: 1, 16.0: 1, 28.0: 1, 54.0: 1, 29.0: 1, 23.0: 1, 17.0: 1, 7.0: 1, 32.0: 1, 41.0: 1, 84.0: 1, 69.0: 1, 42.0: 1, 30.0: 1, 73.0: 1})\n"
          ],
          "name": "stdout"
        },
        {
          "output_type": "display_data",
          "data": {
            "image/png": "[encoded data removed]",
            "text/plain": [
              "<Figure size 432x288 with 1 Axes>"
            ]
          },
          "metadata": {
            "tags": [],
            "needs_background": "light"
          }
        }
      ]
    },
    {
      "cell_type": "code",
      "metadata": {
        "colab": {
          "base_uri": "https://localhost:8080/"
        },
        "id": "tHc2LCy6oLp9",
        "outputId": "3941fff3-4c90-4e0d-ae9c-fcf618793c00"
      },
      "source": [
        "num_points = len(num_friends)\n",
        "largest_value = max(num_friends)\n",
        "smallest_value = min(num_friends)\n",
        "sorted_values = sorted(num_friends)\n",
        "#From sorted we can have them accesed in Random Time O(1) Time\n",
        "print(num_points, largest_value, smallest_value)"
      ],
      "execution_count": null,
      "outputs": [
        {
          "output_type": "stream",
          "text": [
            "100 99.0 0.0\n"
          ],
          "name": "stdout"
        }
      ]
    },
    {
      "cell_type": "code",
      "metadata": {
        "colab": {
          "base_uri": "https://localhost:8080/"
        },
        "id": "hma72Z-FoKpT",
        "outputId": "2af383d8-7f9f-4200-be9a-e8cbce523505"
      },
      "source": [
        "def mean(X):\n",
        "  return sum(X)/len(X)\n",
        "\n",
        "def median(X):\n",
        "  n = len(X)\n",
        "  sorted_X =  sorted(X)\n",
        "  midpoint = n//2\n",
        "\n",
        "  if n%2 == 1:\n",
        "    return sorted_X[midpoint]\n",
        "  else:\n",
        "    return (sorted_X[midpoint-1] + sorted_X[midpoint])/2\n",
        "\n",
        "mean(num_friends)\n",
        "median(num_friends)\n",
        "print(mean(num_friends),median(num_friends))\n",
        "\n",
        "#Mean is highly sensitive to outliers if it is\n",
        "#bad data, then it paints a misleading information\n",
        "#Median is not sensitive to outliers"
      ],
      "execution_count": null,
      "outputs": [
        {
          "output_type": "stream",
          "text": [
            "49.07 47.5\n"
          ],
          "name": "stdout"
        }
      ]
    },
    {
      "cell_type": "code",
      "metadata": {
        "colab": {
          "base_uri": "https://localhost:8080/"
        },
        "id": "2m-PaLAHq0pT",
        "outputId": "3af41794-38de-4cef-8f18-79df3481cbea"
      },
      "source": [
        "def quantile(X, p):\n",
        "  \"\"\"Returns the pth percentile value in X\"\"\"\n",
        "  #Type Casting \n",
        "  p_index = int(p*len(X))\n",
        "  return sorted(X)[p_index]\n",
        "\n",
        "print(quantile(num_friends, 0.10), quantile(num_friends, 0.25), quantile(num_friends, 0.75),quantile(num_friends, 0.99))"
      ],
      "execution_count": null,
      "outputs": [
        {
          "output_type": "stream",
          "text": [
            "9.0 27.0 73.0 99.0\n"
          ],
          "name": "stdout"
        }
      ]
    },
    {
      "cell_type": "code",
      "metadata": {
        "colab": {
          "base_uri": "https://localhost:8080/"
        },
        "id": "bbXOJBPpuar0",
        "outputId": "65f23c20-d928-40ec-8610-254b7629df8b"
      },
      "source": [
        "def mode(X):\n",
        "  counts = collections.Counter(X)\n",
        "  #Since its a dictionary\n",
        "  max_count = max(counts.values())\n",
        "  #Find and extract using List Comprehensions\n",
        "  return [x_i for x_i, count in counts.items() if count == max_count]\n",
        "\n",
        "print(mode(num_friends))"
      ],
      "execution_count": null,
      "outputs": [
        {
          "output_type": "stream",
          "text": [
            "[52.0, 4.0]\n"
          ],
          "name": "stdout"
        }
      ]
    },
    {
      "cell_type": "code",
      "metadata": {
        "colab": {
          "base_uri": "https://localhost:8080/"
        },
        "id": "yauPKRbduc0y",
        "outputId": "b195b7bc-6f39-4a29-c273-2cb472a81f28"
      },
      "source": [
        "#Dispersion\n",
        "\n",
        "def vector_sum(vectors):\n",
        "  \"\"\"sums all corresponding elements\"\"\"\n",
        "  result = vectors[0] # start with the first vector\n",
        "  for vector in vectors[1:]: # then loop over the others\n",
        "    result = vector_add(result, vector) # and add them to the result\n",
        "  return result\n",
        "\n",
        "def dot(v, w):\n",
        "  \"\"\"v_1 * w_1 + ... + v_n * w_n\"\"\"\n",
        "  return sum(v_i * w_i\n",
        "  for v_i, w_i in zip(v, w))\n",
        "\n",
        "def sum_of_squares(v):\n",
        "  \"\"\"v_1 * v_1 + ... + v_n * v_n\"\"\"\n",
        "  return dot(v, v)\n",
        "\n",
        "def data_range(X):\n",
        "  return max(X)-min(X)\n",
        "\n",
        "print(data_range(num_friends))\n",
        "\n",
        "#To make it DATA dependent,we use the variance\n",
        "def de_mean(X):\n",
        "  X_bar = mean(X)\n",
        "  return [x_i - X_bar for x_i in X]\n",
        "\n",
        "def variance(X):\n",
        "  n = len(X)\n",
        "  deviations = de_mean(X)\n",
        "  return sum_of_squares(deviations)/(n-1)\n",
        "\n",
        "def standard_deviation(x):\n",
        "  return math.sqrt(variance(x))\n",
        "\n",
        "def interquartile_range(X):\n",
        "  return quantile(X, 0.75) - quantile(X, 0.25) \n",
        "\n",
        "print(standard_deviation(num_friends))\n",
        "print(interquartile_range(num_friends))\n",
        "\n",
        "def covariance(x, y):\n",
        "  n = len(x)\n",
        "  return dot(de_mean(x), de_mean(y))/(n-1)\n",
        "\n",
        "daily_minuts = num_friends[:]\n",
        "\n",
        "print(covariance(num_friends, daily_minuts))\n",
        "#Expectation is biasing towards positives and negatives\n",
        "#There is some ambiguosness in the value of what is large Cov.\n",
        "\n",
        "#Thats why we prefer CORRELATION\n",
        "def correlation(x, y):\n",
        "  stdev_x = standard_deviation(x)\n",
        "  stdev_y = standard_deviation(y)\n",
        "\n",
        "  if stdev_x > 0 and stdev_y >0:\n",
        "    return covariance(x, y) / stdev_x / stdev_y\n",
        "  else:\n",
        "    return 0\n",
        "\n",
        "print(correlation(num_friends, daily_minuts))\n",
        "#Here we have perfect correlation"
      ],
      "execution_count": null,
      "outputs": [
        {
          "output_type": "stream",
          "text": [
            "99.0\n",
            "29.079568654491993\n",
            "46.0\n",
            "845.6213131313132\n",
            "0.9999999999999999\n"
          ],
          "name": "stdout"
        }
      ]
    }
  ]
}