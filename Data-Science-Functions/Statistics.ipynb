{
  "nbformat": 4,
  "nbformat_minor": 0,
  "metadata": {
    "colab": {
      "name": "Statistics.ipynb",
      "provenance": [],
      "collapsed_sections": [],
      "authorship_tag": "ABX9TyPT7rfsm05G2QKvUBzUd6mY",
      "include_colab_link": true
    },
    "kernelspec": {
      "name": "python3",
      "display_name": "Python 3"
    },
    "language_info": {
      "name": "python"
    }
  },
  "cells": [
    {
      "cell_type": "markdown",
      "metadata": {
        "id": "view-in-github",
        "colab_type": "text"
      },
      "source": [
        "<a href=\"https://colab.research.google.com/github/kunal077/Data-Science/blob/main/Data-Science-Functions/Statistics.ipynb\" target=\"_parent\"><img src=\"https://colab.research.google.com/assets/colab-badge.svg\" alt=\"Open In Colab\"/></a>"
      ]
    },
    {
      "cell_type": "code",
      "metadata": {
        "id": "btaaz-Igib5p"
      },
      "source": [
        "import numpy as np\n",
        "import pandas as pd\n",
        "import matplotlib.pyplot as plt\n",
        "import random\n",
        "#random.seed(0)\n",
        "import collections\n",
        "import math"
      ],
      "execution_count": 1,
      "outputs": []
    },
    {
      "cell_type": "code",
      "metadata": {
        "colab": {
          "base_uri": "https://localhost:8080/",
          "height": 332
        },
        "id": "UxiSksExipz1",
        "outputId": "e62de63c-7f14-4461-dab7-8be8b447ea42"
      },
      "source": [
        "#Generating random values in some range\n",
        "num_friends = [100*random.random()//1 for i in range(100)] \n",
        "#For large datasets we use Histogram for finding out thye features \n",
        "friend_counts = collections.Counter(num_friends)\n",
        "print(friend_counts)\n",
        "xs = range(101)\n",
        "ys = [friend_counts[x] for x in xs]\n",
        "plt.bar(xs, ys)\n",
        "plt.axis([0, 101, 0, 25])\n",
        "plt.title(\"Histogram of Friends Count\")\n",
        "plt.xlabel(\"# of friends\")\n",
        "plt.ylabel(\"# of people\")\n",
        "plt.show()"
      ],
      "execution_count": 2,
      "outputs": [
        {
          "output_type": "stream",
          "text": [
            "Counter({21.0: 4, 91.0: 3, 12.0: 3, 54.0: 3, 32.0: 3, 39.0: 3, 56.0: 3, 85.0: 3, 66.0: 2, 53.0: 2, 0.0: 2, 46.0: 2, 29.0: 2, 17.0: 2, 76.0: 2, 65.0: 2, 6.0: 2, 58.0: 2, 62.0: 2, 67.0: 2, 23.0: 2, 88.0: 2, 55.0: 2, 13.0: 2, 72.0: 2, 18.0: 2, 52.0: 2, 14.0: 2, 61.0: 2, 82.0: 2, 37.0: 1, 90.0: 1, 41.0: 1, 44.0: 1, 73.0: 1, 93.0: 1, 51.0: 1, 30.0: 1, 69.0: 1, 77.0: 1, 94.0: 1, 2.0: 1, 22.0: 1, 24.0: 1, 87.0: 1, 74.0: 1, 97.0: 1, 16.0: 1, 43.0: 1, 19.0: 1, 7.0: 1, 5.0: 1, 45.0: 1, 71.0: 1, 78.0: 1, 63.0: 1, 50.0: 1, 36.0: 1, 20.0: 1, 35.0: 1, 25.0: 1})\n"
          ],
          "name": "stdout"
        },
        {
          "output_type": "display_data",
          "data": {
            "image/png": "[encoded data removed]",
            "text/plain": [
              "<Figure size 432x288 with 1 Axes>"
            ]
          },
          "metadata": {
            "tags": [],
            "needs_background": "light"
          }
        }
      ]
    },
    {
      "cell_type": "code",
      "metadata": {
        "colab": {
          "base_uri": "https://localhost:8080/"
        },
        "id": "tHc2LCy6oLp9",
        "outputId": "043a7e62-0650-4e7b-cf58-289bcc8bdf40"
      },
      "source": [
        "num_points = len(num_friends)\n",
        "largest_value = max(num_friends)\n",
        "smallest_value = min(num_friends)\n",
        "sorted_values = sorted(num_friends)\n",
        "#From sorted we can have them accesed in Random Time O(1) Time\n",
        "print(num_points, largest_value, smallest_value)"
      ],
      "execution_count": 3,
      "outputs": [
        {
          "output_type": "stream",
          "text": [
            "100 97.0 0.0\n"
          ],
          "name": "stdout"
        }
      ]
    },
    {
      "cell_type": "code",
      "metadata": {
        "colab": {
          "base_uri": "https://localhost:8080/"
        },
        "id": "hma72Z-FoKpT",
        "outputId": "be8846d8-7bd5-4dcc-c3fd-de9425d5ec97"
      },
      "source": [
        "def mean(X):\n",
        "  return sum(X)/len(X)\n",
        "\n",
        "def median(X):\n",
        "  n = len(X)\n",
        "  sorted_X =  sorted(X)\n",
        "  midpoint = n//2\n",
        "\n",
        "  if n%2 == 1:\n",
        "    return sorted_X[midpoint]\n",
        "  else:\n",
        "    return (sorted_X[midpoint-1] + sorted_X[midpoint])/2\n",
        "\n",
        "mean(num_friends)\n",
        "median(num_friends)\n",
        "print(mean(num_friends),median(num_friends))\n",
        "\n",
        "#Mean is highly sensitive to outliers if it is\n",
        "#bad data, then it paints a misleading information\n",
        "#Median is not sensitive to outliers"
      ],
      "execution_count": 4,
      "outputs": [
        {
          "output_type": "stream",
          "text": [
            "47.55 51.5\n"
          ],
          "name": "stdout"
        }
      ]
    },
    {
      "cell_type": "code",
      "metadata": {
        "colab": {
          "base_uri": "https://localhost:8080/"
        },
        "id": "2m-PaLAHq0pT",
        "outputId": "1be5e423-3711-47c1-80ac-2ecfd454ce81"
      },
      "source": [
        "def quantile(X, p):\n",
        "  \"\"\"Returns the pth percentile value in X\"\"\"\n",
        "  #Type Casting \n",
        "  p_index = int(p*len(X))\n",
        "  return sorted(X)[p_index]\n",
        "\n",
        "print(quantile(num_friends, 0.10), quantile(num_friends, 0.25), quantile(num_friends, 0.75),quantile(num_friends, 0.99))"
      ],
      "execution_count": 5,
      "outputs": [
        {
          "output_type": "stream",
          "text": [
            "13.0 22.0 69.0 97.0\n"
          ],
          "name": "stdout"
        }
      ]
    },
    {
      "cell_type": "code",
      "metadata": {
        "colab": {
          "base_uri": "https://localhost:8080/"
        },
        "id": "bbXOJBPpuar0",
        "outputId": "ac55f859-075f-4253-b30e-9195aea3bc6f"
      },
      "source": [
        "def mode(X):\n",
        "  counts = collections.Counter(X)\n",
        "  #Since its a dictionary\n",
        "  max_count = max(counts.values())\n",
        "  #Find and extract using List Comprehensions\n",
        "  return [x_i for x_i, count in counts.items() if count == max_count]\n",
        "\n",
        "print(mode(num_friends))"
      ],
      "execution_count": 6,
      "outputs": [
        {
          "output_type": "stream",
          "text": [
            "[21.0]\n"
          ],
          "name": "stdout"
        }
      ]
    },
    {
      "cell_type": "code",
      "metadata": {
        "colab": {
          "base_uri": "https://localhost:8080/"
        },
        "id": "yauPKRbduc0y",
        "outputId": "f526aabe-3cdd-4bea-96fd-74dbd296f913"
      },
      "source": [
        "#Dispersion\n",
        "\n",
        "def vector_sum(vectors):\n",
        "  \"\"\"sums all corresponding elements\"\"\"\n",
        "  result = vectors[0] # start with the first vector\n",
        "  for vector in vectors[1:]: # then loop over the others\n",
        "    result = vector_add(result, vector) # and add them to the result\n",
        "  return result\n",
        "\n",
        "def dot(v, w):\n",
        "  \"\"\"v_1 * w_1 + ... + v_n * w_n\"\"\"\n",
        "  return sum(v_i * w_i\n",
        "  for v_i, w_i in zip(v, w))\n",
        "\n",
        "def sum_of_squares(v):\n",
        "  \"\"\"v_1 * v_1 + ... + v_n * v_n\"\"\"\n",
        "  return dot(v, v)\n",
        "\n",
        "def data_range(X):\n",
        "  return max(X)-min(X)\n",
        "\n",
        "print(data_range(num_friends))\n",
        "\n",
        "#To make it DATA dependent,we use the variance\n",
        "def de_mean(X):\n",
        "  X_bar = mean(X)\n",
        "  return [x_i - X_bar for x_i in X]\n",
        "\n",
        "def variance(X):\n",
        "  n = len(X)\n",
        "  deviations = de_mean(X)\n",
        "  return sum_of_squares(deviations)/(n-1)\n",
        "\n",
        "def standard_deviation(x):\n",
        "  return math.sqrt(variance(x))\n",
        "\n",
        "def interquartile_range(X):\n",
        "  return quantile(X, 0.75) - quantile(X, 0.25) \n",
        "\n",
        "print(standard_deviation(num_friends))\n",
        "print(interquartile_range(num_friends))\n",
        "\n",
        "def covariance(x, y):\n",
        "  n = len(x)\n",
        "  return dot(de_mean(x), de_mean(y))/(n-1)\n",
        "\n",
        "daily_minuts = num_friends[:]\n",
        "\n",
        "print(covariance(num_friends, daily_minuts))\n",
        "#Expectation is biasing towards positives and negatives\n",
        "#There is some ambiguosness in the value of what is large Cov.\n",
        "\n",
        "#Thats why we prefer CORRELATION\n",
        "def correlation(x, y):\n",
        "  stdev_x = standard_deviation(x)\n",
        "  stdev_y = standard_deviation(y)\n",
        "\n",
        "  if stdev_x > 0 and stdev_y >0:\n",
        "    return covariance(x, y) / stdev_x / stdev_y\n",
        "  else:\n",
        "    return 0\n",
        "\n",
        "print(correlation(num_friends, daily_minuts))\n",
        "#Here we have perfect correlation\n",
        "#There might be very biased outlier\n",
        "#So we have to understand that the most \n",
        "#baddest outlier can make/break predictions on\n",
        "#simple Data Science.\n",
        "\n",
        "x = [-2, -1, 0, 1, 2]\n",
        "y = [2, 1, 0, 1, 2]\n",
        "print(correlation(x, y))\n",
        "#correlation only gives us the LINEAR correlation\n",
        "#There might be other forms of relation"
      ],
      "execution_count": 9,
      "outputs": [
        {
          "output_type": "stream",
          "text": [
            "97.0\n",
            "27.089218474805755\n",
            "47.0\n",
            "733.8257575757574\n",
            "1.0\n",
            "0.0\n"
          ],
          "name": "stdout"
        }
      ]
    },
    {
      "cell_type": "markdown",
      "metadata": {
        "id": "Xthpe3ZNpCM4"
      },
      "source": [
        "Simpson's Paradox \n",
        "\n",
        "---\n",
        "\n",
        "\n",
        "Simpson's paradox, which also goes by several other names, is a phenomenon in probability and statistics, in which a trend appears in several different groups of data but disappears or reverses when these groups are combined. "
      ]
    },
    {
      "cell_type": "code",
      "metadata": {
        "id": "lqcz5TmgoGrh"
      },
      "source": [
        "#To test the relation between causality and correlation\n",
        "#Understand the logic by considering the samples\n",
        "#And then making predictions about the population"
      ],
      "execution_count": null,
      "outputs": []
    }
  ]
}