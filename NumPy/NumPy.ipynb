{
  "nbformat": 4,
  "nbformat_minor": 0,
  "metadata": {
    "colab": {
      "name": "NumPy.ipynb",
      "provenance": [],
      "collapsed_sections": [],
      "authorship_tag": "ABX9TyMc9xc3H1OhOAgoT2TTkWL5",
      "include_colab_link": true
    },
    "kernelspec": {
      "name": "python3",
      "display_name": "Python 3"
    },
    "language_info": {
      "name": "python"
    }
  },
  "cells": [
    {
      "cell_type": "markdown",
      "metadata": {
        "id": "view-in-github",
        "colab_type": "text"
      },
      "source": [
        "<a href=\"https://colab.research.google.com/github/kunal077/Data-Science/blob/main/NumPy/NumPy.ipynb\" target=\"_parent\"><img src=\"https://colab.research.google.com/assets/colab-badge.svg\" alt=\"Open In Colab\"/></a>"
      ]
    },
    {
      "cell_type": "code",
      "metadata": {
        "id": "_ZYQ3cDNAzca"
      },
      "source": [
        "import numpy as np"
      ],
      "execution_count": 1,
      "outputs": []
    },
    {
      "cell_type": "code",
      "metadata": {
        "colab": {
          "base_uri": "https://localhost:8080/"
        },
        "id": "htgckbzm_ORO",
        "outputId": "3251dbc6-28bb-4cbf-c6aa-9059d5239ab1"
      },
      "source": [
        "#ndarray\n",
        "data1 = [6, 7.5, 8, 0, 1]\n",
        "arr1 = np.array(data1)\n",
        "\n",
        "print(arr1, arr1.shape)"
      ],
      "execution_count": 2,
      "outputs": [
        {
          "output_type": "stream",
          "text": [
            "[6.  7.5 8.  0.  1. ] (5,)\n"
          ],
          "name": "stdout"
        }
      ]
    },
    {
      "cell_type": "code",
      "metadata": {
        "colab": {
          "base_uri": "https://localhost:8080/"
        },
        "id": "9MXAPVMqA952",
        "outputId": "9de1e45b-5628-4880-9b68-60d16d027eaf"
      },
      "source": [
        "data2 = [[1, 2, 3, 4], [5, 6, 7, 8]]\n",
        "arr2 = np.array(data2)\n",
        "\n",
        "print(arr2)\n",
        "print(arr2.ndim)\n",
        "print(arr2.shape)"
      ],
      "execution_count": 3,
      "outputs": [
        {
          "output_type": "stream",
          "text": [
            "[[1 2 3 4]\n",
            " [5 6 7 8]]\n",
            "2\n",
            "(2, 4)\n"
          ],
          "name": "stdout"
        }
      ]
    },
    {
      "cell_type": "code",
      "metadata": {
        "colab": {
          "base_uri": "https://localhost:8080/"
        },
        "id": "1HvtElBlBETa",
        "outputId": "8c22bc20-f841-4f1b-ed88-e6cb52cc0c91"
      },
      "source": [
        "print(arr1.dtype, arr2.dtype)\n",
        "\n",
        "print(np.zeros(10), np.zeros(10).dtype)\n",
        "print(np.zeros((3, 6)), np.zeros((3, 6)).dtype, np.zeros((3, 6)).shape)\n",
        "\n",
        "arrEmpty = np.empty([2, 3, 2])\n",
        "print(arrEmpty, arrEmpty.dtype, arrEmpty.shape)\n",
        "#Till right now you can pass internal data as tuple or list"
      ],
      "execution_count": 4,
      "outputs": [
        {
          "output_type": "stream",
          "text": [
            "float64 int64\n",
            "[0. 0. 0. 0. 0. 0. 0. 0. 0. 0.] float64\n",
            "[[0. 0. 0. 0. 0. 0.]\n",
            " [0. 0. 0. 0. 0. 0.]\n",
            " [0. 0. 0. 0. 0. 0.]] float64 (3, 6)\n",
            "[[[0.00000000e+000 4.67812487e-310]\n",
            "  [3.95252517e-323 4.67812487e-310]\n",
            "  [3.95252517e-323 4.67812487e-310]]\n",
            "\n",
            " [[4.44659081e-323 0.00000000e+000]\n",
            "  [4.67812487e-310 4.67812487e-310]\n",
            "  [4.67812487e-310 0.00000000e+000]]] float64 (2, 3, 2)\n"
          ],
          "name": "stdout"
        }
      ]
    },
    {
      "cell_type": "code",
      "metadata": {
        "colab": {
          "base_uri": "https://localhost:8080/"
        },
        "id": "BP6hU9V5CYA2",
        "outputId": "dc809e98-4404-418c-f86c-debfa24b0f53"
      },
      "source": [
        "print(np.arange(15))\n",
        "print(np.arange(15).shape)\n",
        "print(type(np.arange(15)))"
      ],
      "execution_count": 5,
      "outputs": [
        {
          "output_type": "stream",
          "text": [
            "[ 0  1  2  3  4  5  6  7  8  9 10 11 12 13 14]\n",
            "(15,)\n",
            "<class 'numpy.ndarray'>\n"
          ],
          "name": "stdout"
        }
      ]
    },
    {
      "cell_type": "code",
      "metadata": {
        "colab": {
          "base_uri": "https://localhost:8080/"
        },
        "id": "mFraFnhuDPy7",
        "outputId": "f187ba93-82c9-436c-f7a3-59bc3c1001d9"
      },
      "source": [
        "arr1 = np.array([1, 2, 3], dtype=np.float64)\n",
        "arr2 = np.array([1, 2, 3], dtype=np.int32)\n",
        "\n",
        "print(arr1.dtype, arr2.dtype)"
      ],
      "execution_count": 6,
      "outputs": [
        {
          "output_type": "stream",
          "text": [
            "float64 int32\n"
          ],
          "name": "stdout"
        }
      ]
    },
    {
      "cell_type": "code",
      "metadata": {
        "colab": {
          "base_uri": "https://localhost:8080/"
        },
        "id": "QPZAvHO6D71s",
        "outputId": "00a10df0-9322-4804-8ff0-d88fed31fa78"
      },
      "source": [
        "#Since we can Type Cast Data into one another\n",
        "arr = np.array([1, 2, 3, 4, 5])\n",
        "print(arr.shape)\n",
        "print(arr.dtype)\n",
        "\n",
        "#Type Casting (np.astype)\n",
        "float_arr = arr.astype(np.float64)\n",
        "print(float_arr, float_arr.dtype, float_arr.shape)\n",
        "\n",
        "arr = np.array([3.7, -1.2, -2.6, 0.5, 12.9, 10.1])\n",
        "int_arr = arr.astype(np.int32)\n",
        "print(int_arr, int_arr.shape, int_arr.dtype)\n",
        "\n",
        "#It is converting list string to NumPy array string\n",
        "numeric_strings = np.array(['1.25', '-9.6', '42'], dtype=np.string_)\n",
        "print(numeric_strings.astype(np.float64))\n",
        "\n",
        "int_arr = np.arange(10)\n",
        "calibers = np.array([.22, .270, .357, .380, .44, .50], dtype=np.float64)\n",
        "print(int_arr.astype(calibers.dtype))\n",
        "\n",
        "empty_uint32 = np.empty(8, dtype='u4')\n",
        "print(empty_uint32)"
      ],
      "execution_count": 7,
      "outputs": [
        {
          "output_type": "stream",
          "text": [
            "(5,)\n",
            "int64\n",
            "[1. 2. 3. 4. 5.] float64 (5,)\n",
            "[ 3 -1 -2  0 12 10] (6,) int32\n",
            "[ 1.25 -9.6  42.  ]\n",
            "[0. 1. 2. 3. 4. 5. 6. 7. 8. 9.]\n",
            "[         0 1075314688          0 1075707904          0 1075838976\n",
            "          0 1072693248]\n"
          ],
          "name": "stdout"
        }
      ]
    },
    {
      "cell_type": "code",
      "metadata": {
        "colab": {
          "base_uri": "https://localhost:8080/"
        },
        "id": "7lLqV5qzGKka",
        "outputId": "89885c9b-88f7-4639-eb3d-f3140c01def1"
      },
      "source": [
        "#Vectorization - Batch Operations on Data without writing Loops everytime\n",
        "arr = np.array([[1., 2., 3.],[4., 5., 6.]])\n",
        "n = '\\n'\n",
        "print(arr*arr, n, arr+arr, n, arr-arr, n, 1/arr, n, arr**0.5)\n",
        "#This Vectorization helps in carrying out Simple Arithmetic on Each individual Data\n",
        "#There is random access time ops O(1)\n",
        "#You can do basic Python Sliciing"
      ],
      "execution_count": 8,
      "outputs": [
        {
          "output_type": "stream",
          "text": [
            "[[ 1.  4.  9.]\n",
            " [16. 25. 36.]] \n",
            " [[ 2.  4.  6.]\n",
            " [ 8. 10. 12.]] \n",
            " [[0. 0. 0.]\n",
            " [0. 0. 0.]] \n",
            " [[1.         0.5        0.33333333]\n",
            " [0.25       0.2        0.16666667]] \n",
            " [[1.         1.41421356 1.73205081]\n",
            " [2.         2.23606798 2.44948974]]\n"
          ],
          "name": "stdout"
        }
      ]
    },
    {
      "cell_type": "code",
      "metadata": {
        "colab": {
          "base_uri": "https://localhost:8080/"
        },
        "id": "ScFPRJKFJA8m",
        "outputId": "cf234357-eb1a-4f48-8140-42c1216f9e11"
      },
      "source": [
        "#Slicing and Indexing\n",
        "arr2d = np.array([[1, 2, 3],[4, 5, 6],[7, 8, 9]])\n",
        "print(arr2d[2])\n",
        "print(arr2d[0][2])\n",
        "#Unique Indexing of array in NumPy\n",
        "print(arr2d[2, 1])\n",
        "\n",
        "arr3d = np.array([[[1, 2, 3],[4, 5, 6]],[[7, 8, 9],[10, 11, 12]]])\n",
        "print(arr3d)\n",
        "print(arr3d[0][0][0])\n",
        "\n",
        "#So you can copy paste scalar as well as arrays\n",
        "old_values = arr3d[0].copy()\n",
        "print(old_values)\n",
        "\n",
        "#Assigning Scalar\n",
        "arr3d[0] = 42\n",
        "print(arr3d)\n",
        "\n",
        "#Reassigning Vector\n",
        "arr3d[0] = old_values\n",
        "print(arr3d)\n",
        "\n",
        "print(arr3d[1, 0])"
      ],
      "execution_count": 9,
      "outputs": [
        {
          "output_type": "stream",
          "text": [
            "[7 8 9]\n",
            "3\n",
            "8\n",
            "[[[ 1  2  3]\n",
            "  [ 4  5  6]]\n",
            "\n",
            " [[ 7  8  9]\n",
            "  [10 11 12]]]\n",
            "1\n",
            "[[1 2 3]\n",
            " [4 5 6]]\n",
            "[[[42 42 42]\n",
            "  [42 42 42]]\n",
            "\n",
            " [[ 7  8  9]\n",
            "  [10 11 12]]]\n",
            "[[[ 1  2  3]\n",
            "  [ 4  5  6]]\n",
            "\n",
            " [[ 7  8  9]\n",
            "  [10 11 12]]]\n",
            "[7 8 9]\n"
          ],
          "name": "stdout"
        }
      ]
    },
    {
      "cell_type": "code",
      "metadata": {
        "colab": {
          "base_uri": "https://localhost:8080/"
        },
        "id": "cZ0iwMLFLqYR",
        "outputId": "6a047700-c224-40ea-cd85-ce7e7709349a"
      },
      "source": [
        "arr = np.array([ 0, 1, 2, 3, 4, 64, 64, 64, 8, 9])\n",
        "print(arr[1:6])\n",
        "\n",
        "print(arr2d)\n",
        "print(arr2d[:2])\n",
        "\n",
        "print(arr2d)\n",
        "#This is what we call sequential slicing \n",
        "#First along the axis 0 then axis 1 then axis 2\n",
        "print(arr2d[:2, 1:])\n",
        "\n",
        "#So we can do some smart analysis to take out exactly the value that we need\n",
        "print(arr2d[:, :1])"
      ],
      "execution_count": 10,
      "outputs": [
        {
          "output_type": "stream",
          "text": [
            "[ 1  2  3  4 64]\n",
            "[[1 2 3]\n",
            " [4 5 6]\n",
            " [7 8 9]]\n",
            "[[1 2 3]\n",
            " [4 5 6]]\n",
            "[[1 2 3]\n",
            " [4 5 6]\n",
            " [7 8 9]]\n",
            "[[2 3]\n",
            " [5 6]]\n",
            "[[1]\n",
            " [4]\n",
            " [7]]\n"
          ],
          "name": "stdout"
        }
      ]
    },
    {
      "cell_type": "code",
      "metadata": {
        "colab": {
          "base_uri": "https://localhost:8080/"
        },
        "id": "fXHCYUFDMzKj",
        "outputId": "b1e739c7-0948-453d-bff0-01df146ad318"
      },
      "source": [
        "#Boolean Indexing\n",
        "#We can generate Normally Distributed Random Data in Arrays Form\n",
        "#Scalar Selection and Slicing Selection generatest different dimensions in output data\n",
        "\n",
        "names = np.array(['Bob', 'Joe', 'Will', 'Bob', 'Will', 'Joe', 'Joe'])\n",
        "data = np.random.randn(7, 4)\n",
        "\n",
        "print(names, n, data)\n",
        "\n",
        "#Returns me Boolean Values where conditions are met\n",
        "print(names == \"Bob\")\n",
        "print(data[names==\"Bob\"])\n",
        "#Selection based on some certain conditions\n",
        "print(data[~(names==\"Bob\")])\n",
        "print()\n",
        "mask = (names==\"Bob\") | (names==\"Will\")\n",
        "print(data[mask])\n",
        "\n",
        "#Setter values\n",
        "data[data<0] = 0 \n",
        "print(data) "
      ],
      "execution_count": 11,
      "outputs": [
        {
          "output_type": "stream",
          "text": [
            "['Bob' 'Joe' 'Will' 'Bob' 'Will' 'Joe' 'Joe'] \n",
            " [[ 7.99752785e-01 -8.56036516e-01 -6.98481594e-01  7.26071260e-01]\n",
            " [-4.17722504e-01 -5.67653895e-01  8.07406668e-04  2.02522075e-02]\n",
            " [ 2.67021372e-01  7.73560639e-01 -4.26593674e-01  8.14257880e-01]\n",
            " [ 9.93854655e-01 -8.21842978e-02  4.34996457e-01 -4.81764197e-01]\n",
            " [ 1.05719128e+00 -7.57172833e-01 -4.71577461e-01 -7.07900912e-01]\n",
            " [ 5.58754368e-01  9.42484452e-01 -7.13474114e-01  1.58445424e+00]\n",
            " [-7.20068725e-01  3.37850024e-01 -7.16465760e-01  5.04672960e-01]]\n",
            "[ True False False  True False False False]\n",
            "[[ 0.79975279 -0.85603652 -0.69848159  0.72607126]\n",
            " [ 0.99385465 -0.0821843   0.43499646 -0.4817642 ]]\n",
            "[[-4.17722504e-01 -5.67653895e-01  8.07406668e-04  2.02522075e-02]\n",
            " [ 2.67021372e-01  7.73560639e-01 -4.26593674e-01  8.14257880e-01]\n",
            " [ 1.05719128e+00 -7.57172833e-01 -4.71577461e-01 -7.07900912e-01]\n",
            " [ 5.58754368e-01  9.42484452e-01 -7.13474114e-01  1.58445424e+00]\n",
            " [-7.20068725e-01  3.37850024e-01 -7.16465760e-01  5.04672960e-01]]\n",
            "\n",
            "[[ 0.79975279 -0.85603652 -0.69848159  0.72607126]\n",
            " [ 0.26702137  0.77356064 -0.42659367  0.81425788]\n",
            " [ 0.99385465 -0.0821843   0.43499646 -0.4817642 ]\n",
            " [ 1.05719128 -0.75717283 -0.47157746 -0.70790091]]\n",
            "[[7.99752785e-01 0.00000000e+00 0.00000000e+00 7.26071260e-01]\n",
            " [0.00000000e+00 0.00000000e+00 8.07406668e-04 2.02522075e-02]\n",
            " [2.67021372e-01 7.73560639e-01 0.00000000e+00 8.14257880e-01]\n",
            " [9.93854655e-01 0.00000000e+00 4.34996457e-01 0.00000000e+00]\n",
            " [1.05719128e+00 0.00000000e+00 0.00000000e+00 0.00000000e+00]\n",
            " [5.58754368e-01 9.42484452e-01 0.00000000e+00 1.58445424e+00]\n",
            " [0.00000000e+00 3.37850024e-01 0.00000000e+00 5.04672960e-01]]\n"
          ],
          "name": "stdout"
        }
      ]
    },
    {
      "cell_type": "code",
      "metadata": {
        "colab": {
          "base_uri": "https://localhost:8080/"
        },
        "id": "GIUqea1NPI7r",
        "outputId": "3e9faf11-875c-46d5-a673-d89f75e310cb"
      },
      "source": [
        "arr = np.array([[ 4, 7, 5, 6],\n",
        "[20, 23, 21, 22],\n",
        "[28, 31, 29, 30],\n",
        "[ 8, 11, 9, 10]])\n",
        "\n",
        "print(arr, arr.shape)\n",
        "arr = np.arange(15).reshape((3, 5))\n",
        "\n",
        "print(arr, arr.shape)\n",
        "print(arr.T)\n",
        "\n",
        "arr = np.random.randn(6, 3)\n",
        "print(arr)\n",
        "\n",
        "print(\"Result:\\n\", np.dot(arr.T, arr))"
      ],
      "execution_count": 12,
      "outputs": [
        {
          "output_type": "stream",
          "text": [
            "[[ 4  7  5  6]\n",
            " [20 23 21 22]\n",
            " [28 31 29 30]\n",
            " [ 8 11  9 10]] (4, 4)\n",
            "[[ 0  1  2  3  4]\n",
            " [ 5  6  7  8  9]\n",
            " [10 11 12 13 14]] (3, 5)\n",
            "[[ 0  5 10]\n",
            " [ 1  6 11]\n",
            " [ 2  7 12]\n",
            " [ 3  8 13]\n",
            " [ 4  9 14]]\n",
            "[[ 1.21690294 -2.51732236  0.04423144]\n",
            " [ 0.48899447  1.21007229  0.67483444]\n",
            " [-1.6422271  -0.03477225  1.34927197]\n",
            " [ 2.40473015 -2.19579653  0.70551534]\n",
            " [ 1.2077654   1.60933642 -2.92792657]\n",
            " [-0.06691462  0.29449735 -0.3492349 ]]\n",
            "Result:\n",
            " [[11.66278012 -5.77081784 -3.64830078]\n",
            " [-5.77081784 15.30061074 -5.70569928]\n",
            " [-3.64830078 -5.70569928 11.47036366]]\n"
          ],
          "name": "stdout"
        }
      ]
    },
    {
      "cell_type": "code",
      "metadata": {
        "colab": {
          "base_uri": "https://localhost:8080/"
        },
        "id": "2eirMrn1P5eQ",
        "outputId": "dff71563-9551-437a-faa6-7dfb1f928598"
      },
      "source": [
        "arr = np.arange(16).reshape((2, 2, 4))\n",
        "print(arr)\n",
        "print(arr.T)"
      ],
      "execution_count": 13,
      "outputs": [
        {
          "output_type": "stream",
          "text": [
            "[[[ 0  1  2  3]\n",
            "  [ 4  5  6  7]]\n",
            "\n",
            " [[ 8  9 10 11]\n",
            "  [12 13 14 15]]]\n",
            "[[[ 0  8]\n",
            "  [ 4 12]]\n",
            "\n",
            " [[ 1  9]\n",
            "  [ 5 13]]\n",
            "\n",
            " [[ 2 10]\n",
            "  [ 6 14]]\n",
            "\n",
            " [[ 3 11]\n",
            "  [ 7 15]]]\n"
          ],
          "name": "stdout"
        }
      ]
    },
    {
      "cell_type": "code",
      "metadata": {
        "colab": {
          "base_uri": "https://localhost:8080/"
        },
        "id": "SlK_gVRzQUFO",
        "outputId": "91f44306-f1cd-443a-ce2b-2b92fe635c08"
      },
      "source": [
        "#Universal Function (ufunc)\n",
        "arr = np.arange(10)\n",
        "arr = np.sqrt(arr)\n",
        "print(arr)\n",
        "arr = np.arange(10)\n",
        "arr = np.exp(arr)\n",
        "print(arr)\n",
        "\n",
        "x, y = np.random.randn(8), np.random.randn(8)\n",
        "print(x, n, y)\n",
        "print(np.maximum(x, y))\n",
        "print()\n",
        "\n",
        "arr = np.random.randn(7)\n",
        "print(arr)\n",
        "arr = arr*5\n",
        "print(arr)\n",
        "\n",
        "arr = np.modf(arr)\n",
        "print(arr)"
      ],
      "execution_count": 14,
      "outputs": [
        {
          "output_type": "stream",
          "text": [
            "[0.         1.         1.41421356 1.73205081 2.         2.23606798\n",
            " 2.44948974 2.64575131 2.82842712 3.        ]\n",
            "[1.00000000e+00 2.71828183e+00 7.38905610e+00 2.00855369e+01\n",
            " 5.45981500e+01 1.48413159e+02 4.03428793e+02 1.09663316e+03\n",
            " 2.98095799e+03 8.10308393e+03]\n",
            "[ 0.00364025  0.23161824  1.14949184  0.43258482 -1.15649092 -0.37880749\n",
            "  1.303546   -1.47250052] \n",
            " [ 0.00264002 -1.27180094 -0.20045648  0.78935285 -0.72014446 -0.17347588\n",
            " -1.13848678 -0.1098677 ]\n",
            "[ 0.00364025  0.23161824  1.14949184  0.78935285 -0.72014446 -0.17347588\n",
            "  1.303546   -0.1098677 ]\n",
            "\n",
            "[ 1.56390848  2.37040129  1.05988902  0.41020145  0.83139175  0.06181042\n",
            " -0.66933928]\n",
            "[ 7.81954242 11.85200644  5.29944512  2.05100727  4.15695877  0.30905212\n",
            " -3.34669639]\n",
            "(array([ 0.81954242,  0.85200644,  0.29944512,  0.05100727,  0.15695877,\n",
            "        0.30905212, -0.34669639]), array([ 7., 11.,  5.,  2.,  4.,  0., -3.]))\n"
          ],
          "name": "stdout"
        }
      ]
    },
    {
      "cell_type": "code",
      "metadata": {
        "colab": {
          "base_uri": "https://localhost:8080/",
          "height": 638
        },
        "id": "fYtVoTuNRk99",
        "outputId": "37d2d82b-a015-4169-95d4-3187a749f535"
      },
      "source": [
        "#Data Processing Using Arrays\n",
        "points = np.arange(-5, 5, 0.01)\n",
        "#print(points)\n",
        "xs, ys = np.meshgrid(points, points)\n",
        "#xs is x axis and ys is y axis\n",
        "print(xs, \"\\n\\n\", ys, \"\\n\\n\", xs.shape, \"\\n\\n\", ys.shape)\n",
        "#With the help of these grids We can interpolate\n",
        "#And simulate Real Valued Functions\n",
        "\n",
        "import matplotlib.pyplot as plt\n",
        "z = np.sqrt(xs**2 + ys**2)\n",
        "print()\n",
        "plt.imshow(z, cmap=plt.cm.gray)\n",
        "plt.colorbar()\n",
        "plt.title(\"Image Plot of $\\sqrt{x^2 + y^2} for a grid of values\")\n",
        "#So it is made possible becuase we are using these values as respective colors"
      ],
      "execution_count": 15,
      "outputs": [
        {
          "output_type": "stream",
          "text": [
            "[[-5.   -4.99 -4.98 ...  4.97  4.98  4.99]\n",
            " [-5.   -4.99 -4.98 ...  4.97  4.98  4.99]\n",
            " [-5.   -4.99 -4.98 ...  4.97  4.98  4.99]\n",
            " ...\n",
            " [-5.   -4.99 -4.98 ...  4.97  4.98  4.99]\n",
            " [-5.   -4.99 -4.98 ...  4.97  4.98  4.99]\n",
            " [-5.   -4.99 -4.98 ...  4.97  4.98  4.99]] \n",
            "\n",
            " [[-5.   -5.   -5.   ... -5.   -5.   -5.  ]\n",
            " [-4.99 -4.99 -4.99 ... -4.99 -4.99 -4.99]\n",
            " [-4.98 -4.98 -4.98 ... -4.98 -4.98 -4.98]\n",
            " ...\n",
            " [ 4.97  4.97  4.97 ...  4.97  4.97  4.97]\n",
            " [ 4.98  4.98  4.98 ...  4.98  4.98  4.98]\n",
            " [ 4.99  4.99  4.99 ...  4.99  4.99  4.99]] \n",
            "\n",
            " (1000, 1000) \n",
            "\n",
            " (1000, 1000)\n",
            "\n"
          ],
          "name": "stdout"
        },
        {
          "output_type": "execute_result",
          "data": {
            "text/plain": [
              "Text(0.5, 1.0, 'Image Plot of $\\\\sqrt{x^2 + y^2} for a grid of values')"
            ]
          },
          "metadata": {
            "tags": []
          },
          "execution_count": 15
        },
        {
          "output_type": "display_data",
          "data": {
            "image/png": "[encoded data removed]",
            "text/plain": [
              "<Figure size 432x288 with 2 Axes>"
            ]
          },
          "metadata": {
            "tags": [],
            "needs_background": "light"
          }
        }
      ]
    },
    {
      "cell_type": "code",
      "metadata": {
        "colab": {
          "base_uri": "https://localhost:8080/"
        },
        "id": "wcU-99uHV6fI",
        "outputId": "9ee69561-e221-4d7e-c8fc-802d7f9c9b13"
      },
      "source": [
        "#Conditional Logic as Arrya Operations\n",
        "xarr = np.array([1.1, 1.2, 1.3, 1.4, 1.5])\n",
        "yarr = np.array([2.1, 2.2, 2.3, 2.4, 2.5])\n",
        "cond = np.array([True, False, True, True, False])\n",
        "\n",
        "#This method is slow for larger datasets\n",
        "result = [(x if c else y) for x, y, c in zip(xarr, yarr, cond)]\n",
        "print(result) #Returning Tuple\n",
        "\n",
        "result = np.where(cond, xarr, yarr)\n",
        "print(result, type(result)) #Returning \n",
        "\n",
        "arr = np.random.randn(4, 4)\n",
        "print(arr)\n",
        "arr = np.where(arr>0, 2, -2)\n",
        "print(arr)\n",
        "\n",
        "#Also we can use Nested np.where function to get values"
      ],
      "execution_count": 16,
      "outputs": [
        {
          "output_type": "stream",
          "text": [
            "[1.1, 2.2, 1.3, 1.4, 2.5]\n",
            "[1.1 2.2 1.3 1.4 2.5] <class 'numpy.ndarray'>\n",
            "[[ 0.97317476  0.81484143 -0.34487505  0.58990259]\n",
            " [-1.05571824  2.13680413  0.17614915 -0.63782564]\n",
            " [ 0.00375984  1.98078001  1.70878713 -0.83966234]\n",
            " [ 0.92925906  1.5313718   0.2872456   0.09009903]]\n",
            "[[ 2  2 -2  2]\n",
            " [-2  2  2 -2]\n",
            " [ 2  2  2 -2]\n",
            " [ 2  2  2  2]]\n"
          ],
          "name": "stdout"
        }
      ]
    },
    {
      "cell_type": "code",
      "metadata": {
        "colab": {
          "base_uri": "https://localhost:8080/"
        },
        "id": "_pDZCq11X3dz",
        "outputId": "2ab193f4-3e0d-4293-9160-453875bfacb4"
      },
      "source": [
        "#Statistical Methods \n",
        "arr = np.random.randn(5, 4)\n",
        "print(arr, n, arr.mean(), n, np.mean(arr), n, arr.sum())\n",
        "print()\n",
        "arr = np.random.randn(8)\n",
        "print(arr)\n",
        "arr = np.sort(arr)\n",
        "print(arr)"
      ],
      "execution_count": 17,
      "outputs": [
        {
          "output_type": "stream",
          "text": [
            "[[-0.61046152  0.77256569  0.2768347   0.0387678 ]\n",
            " [-0.69440554  1.79252981 -1.53296677  0.06235155]\n",
            " [ 0.04294189  1.19223101 -0.93494599  0.51259794]\n",
            " [-1.44001634  0.37979638  0.14868997  0.20656725]\n",
            " [ 0.26383195  1.09679641 -0.96421925 -0.28194627]] \n",
            " 0.016377033205868825 \n",
            " 0.016377033205868825 \n",
            " 0.3275406641173765\n",
            "\n",
            "[-1.61018315 -1.06125744 -0.8466775   1.21347445 -0.84072144  0.07574565\n",
            " -0.36601127 -0.25671075]\n",
            "[-1.61018315 -1.06125744 -0.8466775  -0.84072144 -0.36601127 -0.25671075\n",
            "  0.07574565  1.21347445]\n"
          ],
          "name": "stdout"
        }
      ]
    },
    {
      "cell_type": "code",
      "metadata": {
        "colab": {
          "base_uri": "https://localhost:8080/"
        },
        "id": "llPfr3u-Zetx",
        "outputId": "eb843fa3-bcf1-4e89-8935-64b18b826ff5"
      },
      "source": [
        "arr = np.arange(10)\n",
        "np.save('Some_Array', arr)\n",
        "arr_new = np.load('Some_Array.npy')\n",
        "print(type(arr_new))\n",
        "#We can use np.savez for zipping and storing"
      ],
      "execution_count": 18,
      "outputs": [
        {
          "output_type": "stream",
          "text": [
            "<class 'numpy.ndarray'>\n"
          ],
          "name": "stdout"
        }
      ]
    },
    {
      "cell_type": "code",
      "metadata": {
        "colab": {
          "base_uri": "https://localhost:8080/"
        },
        "id": "uOinqOy4aHXu",
        "outputId": "1052f1b6-f6db-47e8-f7e8-3f13776c6f0e"
      },
      "source": [
        "#Linear Algebra\n",
        "x = np.array([[1., 2., 3.], [4., 5., 6.]])\n",
        "y = np.array([[6., 23.], [-1, 7], [8, 9]])\n",
        "print(x, n, y)\n",
        "\n",
        "result = np.dot(x, y)\n",
        "print()\n",
        "print(result)\n",
        "\n",
        "#np.linalg has INVERSE, DECOMPOSITIONS\n",
        "from numpy.linalg import inv, qr\n",
        "X = np.random.randn(5, 5)\n",
        "mat = X.T.dot(X)\n",
        "print(mat)\n",
        "print(inv(mat))\n",
        "print(np.dot(mat,inv(mat)))\n",
        "print(mat.dot(inv(mat)))\n",
        "#Usint q,r,qr We can divide the matrix in upper and lower matrices"
      ],
      "execution_count": 19,
      "outputs": [
        {
          "output_type": "stream",
          "text": [
            "[[1. 2. 3.]\n",
            " [4. 5. 6.]] \n",
            " [[ 6. 23.]\n",
            " [-1.  7.]\n",
            " [ 8.  9.]]\n",
            "\n",
            "[[ 28.  64.]\n",
            " [ 67. 181.]]\n",
            "[[11.90162433  3.77973086 -0.38766086 -4.65886527 -4.81543507]\n",
            " [ 3.77973086  6.46763217  2.69742806  0.90401035 -2.8671926 ]\n",
            " [-0.38766086  2.69742806  6.27817784  1.01258206 -0.44926954]\n",
            " [-4.65886527  0.90401035  1.01258206  6.78784647  0.55401974]\n",
            " [-4.81543507 -2.8671926  -0.44926954  0.55401974  3.62173687]]\n",
            "[[ 0.33992679 -0.09367782  0.05271731  0.20916373  0.35234654]\n",
            " [-0.09367782  0.34007271 -0.12495276 -0.10277323  0.14489054]\n",
            " [ 0.05271731 -0.12495276  0.21232061  0.02162415 -0.00579774]\n",
            " [ 0.20916373 -0.10277323  0.02162415  0.28867146  0.15526504]\n",
            " [ 0.35234654  0.14489054 -0.00579774  0.15526504  0.83482219]]\n",
            "[[ 1.00000000e+00  8.04693836e-17 -7.52268854e-17 -2.29163543e-16\n",
            "   2.24045541e-16]\n",
            " [ 7.50675330e-17  1.00000000e+00  2.09616328e-18 -3.92718428e-18\n",
            "   4.16486038e-16]\n",
            " [-1.08250868e-17  8.89904707e-17  1.00000000e+00 -4.07628686e-17\n",
            "   7.23565499e-17]\n",
            " [ 5.60862750e-17 -1.83140339e-17  6.12314866e-17  1.00000000e+00\n",
            "  -4.99793012e-17]\n",
            " [-5.80038947e-17  4.16089282e-17  4.07841695e-17 -5.49340129e-17\n",
            "   1.00000000e+00]]\n",
            "[[ 1.00000000e+00  8.04693836e-17 -7.52268854e-17 -2.29163543e-16\n",
            "   2.24045541e-16]\n",
            " [ 7.50675330e-17  1.00000000e+00  2.09616328e-18 -3.92718428e-18\n",
            "   4.16486038e-16]\n",
            " [-1.08250868e-17  8.89904707e-17  1.00000000e+00 -4.07628686e-17\n",
            "   7.23565499e-17]\n",
            " [ 5.60862750e-17 -1.83140339e-17  6.12314866e-17  1.00000000e+00\n",
            "  -4.99793012e-17]\n",
            " [-5.80038947e-17  4.16089282e-17  4.07841695e-17 -5.49340129e-17\n",
            "   1.00000000e+00]]\n"
          ],
          "name": "stdout"
        }
      ]
    },
    {
      "cell_type": "code",
      "metadata": {
        "colab": {
          "base_uri": "https://localhost:8080/"
        },
        "id": "Yf6W8Wdgc4hR",
        "outputId": "91c4277b-7449-48bc-9026-5323c019c645"
      },
      "source": [
        "#Random Number Generation\n",
        "from random import normalvariate\n",
        "N = 1000000\n",
        "\n",
        "%timeit samples = [normalvariate(0, 1) for _ in range(N)]\n",
        "%timeit np.random.normal(size = N)"
      ],
      "execution_count": 20,
      "outputs": [
        {
          "output_type": "stream",
          "text": [
            "1 loop, best of 5: 894 ms per loop\n",
            "10 loops, best of 5: 44.2 ms per loop\n"
          ],
          "name": "stdout"
        }
      ]
    },
    {
      "cell_type": "code",
      "metadata": {
        "colab": {
          "base_uri": "https://localhost:8080/"
        },
        "id": "srHXh0_Od7dG",
        "outputId": "649c75fe-0c24-44d9-8f46-77164d9313ee"
      },
      "source": [
        "import random\n",
        "random.seed(0)\n",
        "\n",
        "nsteps = 1000\n",
        "draws = np.random.randint(0, 2, size = nsteps)\n",
        "steps = np.where(draws>0, 1, -1)\n",
        "walk = steps.cumsum() #Cumulative Sum 1, 2, 3 -> 1, 3, 6\n",
        "print(walk)\n",
        "\n",
        "print(walk.min())\n",
        "print(walk.max())\n",
        "\n",
        "#First Crossing Time\n",
        "#argmax() Returns First Occurence of Truth \n",
        "print((np.abs(walk)>=10).argmax())\n",
        "print((np.abs(walk)>=10).argmin())\n",
        "#We can also simulate MULTIPLE TESTS AT ONCE"
      ],
      "execution_count": 21,
      "outputs": [
        {
          "output_type": "stream",
          "text": [
            "[ 1  2  3  4  5  6  5  4  5  4  5  4  3  4  3  4  3  4  5  4  3  2  1  2\n",
            "  1  2  1  0  1  2  1  2  3  2  1  0  1  0  1  2  1  0  1  0 -1  0  1  0\n",
            " -1 -2 -1 -2 -1 -2 -3 -2 -1 -2 -1  0 -1  0  1  2  3  4  5  6  5  6  7  8\n",
            "  9 10 11 12 13 14 15 16 15 16 15 16 17 16 15 16 15 14 13 12 13 12 13 14\n",
            " 13 14 13 14 13 14 15 16 17 16 15 16 15 16 17 18 17 18 19 18 19 18 19 18\n",
            " 17 16 15 16 17 18 17 18 17 18 17 16 15 16 15 14 15 16 17 16 15 16 15 16\n",
            " 17 18 19 18 17 16 15 14 15 14 13 14 13 12 11 10 11 10 11 12 13 12 11 12\n",
            " 11 12 11 12 13 14 13 14 15 14 15 14 13 14 15 14 13 12 11 12 11 12 11 12\n",
            " 11 10  9 10  9  8  9 10  9 10  9 10 11 12 13 14 13 14 13 14 15 14 13 14\n",
            " 15 16 15 16 15 14 13 14 13 12 13 12 13 14 15 14 15 16 17 16 17 16 17 18\n",
            " 19 18 19 20 19 18 17 16 15 16 17 18 19 18 19 18 17 16 17 18 17 18 19 18\n",
            " 17 18 17 16 15 16 17 16 15 14 15 14 15 14 13 14 13 12 13 12 11 12 13 12\n",
            " 13 14 13 12 13 12 13 14 15 14 13 12 13 14 13 12 13 14 15 14 13 12 11 10\n",
            " 11 12 11 12 11 12 13 12 13 14 13 14 15 16 17 16 17 16 17 18 19 18 17 16\n",
            " 15 14 15 16 17 16 15 14 15 14 13 14 15 16 17 18 17 16 15 16 17 16 17 18\n",
            " 17 16 15 16 17 18 17 16 15 14 13 14 13 12 11 10 11 10  9  8  7  8  7  6\n",
            "  5  6  7  8  7  8  9 10  9 10 11 12 11 10 11 10 11 10  9  8  7  8  7  8\n",
            "  9 10 11 12 11 12 13 12 11 10  9  8  9  8  7  6  5  4  5  4  5  6  5  6\n",
            "  5  6  5  6  7  8  7  6  5  4  5  6  5  6  5  6  7  8  7  6  7  6  5  4\n",
            "  5  6  7  8  9  8  9  8  9  8  9  8  7  8  9 10  9  8  9  8  7  8  9 10\n",
            "  9  8  9 10  9 10  9  8  7  6  5  4  3  2  1  2  3  2  3  4  3  2  3  4\n",
            "  3  4  5  6  7  6  7  8  7  8  7  8  9 10  9  8  7  8  9 10  9 10 11 12\n",
            " 11 12 13 12 11 10 11 12 13 14 13 12 11 10  9 10 11 12 13 12 11 10  9  8\n",
            "  9 10  9  8  9  8  7  8  7  8  9 10  9  8  9  8  9  8  9 10  9  8  7  8\n",
            "  7  8  7  8  9  8  7  8  7  8  7  8  7  8  7  8  9 10 11 10 11 10  9  8\n",
            "  7  6  7  8  9 10  9 10 11 12 11 10  9  8  9 10  9 10  9 10 11 10 11 12\n",
            " 11 10 11 10  9  8  7  8  9  8  9 10 11 12 11 12 13 12 11 12 13 12 11 10\n",
            " 11 10  9  8  7  8  7  8  9  8  9  8  9  8  7  6  5  6  5  6  7  8  9  8\n",
            "  7  6  7  8  7  8  9  8  9  8  7  8  7  6  5  4  3  2  3  4  5  4  3  2\n",
            "  3  4  5  6  5  4  5  6  5  6  5  6  7  6  7  8  9 10  9  8  9  8  7  6\n",
            "  5  6  7  6  5  4  3  4  3  4  3  2  3  2  3  2  3  2  3  2  3  2  3  4\n",
            "  3  4  5  4  3  2  3  4  3  4  3  4  3  4  5  6  7  6  5  4  5  4  5  6\n",
            "  5  4  5  4  3  4  5  6  7  6  7  6  5  4  3  4  3  4  3  2  1  0 -1 -2\n",
            " -3 -2 -1 -2 -1 -2 -1 -2 -1  0  1  2  3  2  1  0  1  2  1  2  1  2  3  4\n",
            "  5  6  7  8  9 10  9 10  9  8  9 10  9  8  9  8  9 10  9 10  9 10  9  8\n",
            "  9  8  9  8  9  8  7  6  5  6  5  4  3  4  5  4  3  4  3  2  1  2  1  0\n",
            "  1  2  3  2  3  4  5  4  5  6  7  8  7  6  5  4  5  6  5  6  7  8  7  6\n",
            "  5  4  3  4  5  4  5  4  5  6  5  4  3  2  1  0  1  0  1  0  1  2  3  4\n",
            "  3  2  1  0  1  0 -1 -2 -1  0 -1  0 -1  0 -1  0 -1 -2 -3 -2 -1 -2 -1  0\n",
            "  1  2  3  2  1  0  1  2  3  2  1  0  1  2  1  2  3  4  5  6  7  6  7  6\n",
            "  5  6  5  6  7  8  7  8  7  6  5  4  5  4  3  2  1  0 -1 -2 -3 -2 -3 -4\n",
            " -3 -4 -5 -4 -3 -4 -5 -4 -3 -2 -1  0  1  0  1  2]\n",
            "-5\n",
            "20\n",
            "73\n",
            "0\n"
          ],
          "name": "stdout"
        }
      ]
    }
  ]
}